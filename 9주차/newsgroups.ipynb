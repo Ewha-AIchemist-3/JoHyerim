{
 "cells": [
  {
   "cell_type": "code",
   "execution_count": 9,
   "id": "3ce505e8-53e4-4492-bae9-34ee700a1a6f",
   "metadata": {},
   "outputs": [],
   "source": [
    "# fetch_20newsgroups() : 뉴스그룹의 분류 수행 예제 데이터\n",
    "# 희소 행렬에 분류를 효과적으로 잘 처리할 수 있는 알고리즘 : 로지스틱 회귀, 선형 서포트 벡터 머신, 나이브 베이즈 등\n",
    "# 텍스트 정규화 -> 피처 벡터화 -> 학습/예측/평가"
   ]
  },
  {
   "cell_type": "code",
   "execution_count": 10,
   "id": "817354e4-addd-4808-bc01-50473a6c7336",
   "metadata": {},
   "outputs": [],
   "source": [
    "# 텍스트 정규화"
   ]
  },
  {
   "cell_type": "code",
   "execution_count": 11,
   "id": "d931a659-261e-495f-8dc5-178e3f20a290",
   "metadata": {},
   "outputs": [],
   "source": [
    "# fetch_20newsgroups()으로 뉴스그룹 분류 예제 데이터 불러오기. Bunch 객체 반환\n",
    "from sklearn.datasets import fetch_20newsgroups\n",
    "\n",
    "news_data = fetch_20newsgroups(subset='all', random_state=156) "
   ]
  },
  {
   "cell_type": "code",
   "execution_count": 12,
   "id": "189bf19d-6511-4221-b8c9-ba74f167b3e9",
   "metadata": {},
   "outputs": [
    {
     "name": "stdout",
     "output_type": "stream",
     "text": [
      "dict_keys(['data', 'filenames', 'target_names', 'target', 'DESCR'])\n"
     ]
    }
   ],
   "source": [
    "# news_data의 key값 확인\n",
    "print(news_data.keys())\n",
    "# filenames : fetch_20newsgroups() API가 인터넷에서 내려받아 로컬 컴퓨터에 저장하는 디렉터리와 파일명"
   ]
  },
  {
   "cell_type": "code",
   "execution_count": 13,
   "id": "2e9aa3ea-b111-4fbc-98a5-58ac748cc799",
   "metadata": {},
   "outputs": [
    {
     "name": "stdout",
     "output_type": "stream",
     "text": [
      "target 클래스의 값과 분포도 \n",
      " 0     799\n",
      "1     973\n",
      "2     985\n",
      "3     982\n",
      "4     963\n",
      "5     988\n",
      "6     975\n",
      "7     990\n",
      "8     996\n",
      "9     994\n",
      "10    999\n",
      "11    991\n",
      "12    984\n",
      "13    990\n",
      "14    987\n",
      "15    997\n",
      "16    910\n",
      "17    940\n",
      "18    775\n",
      "19    628\n",
      "Name: count, dtype: int64\n",
      "target 클래스의 이름들 \n",
      " ['alt.atheism', 'comp.graphics', 'comp.os.ms-windows.misc', 'comp.sys.ibm.pc.hardware', 'comp.sys.mac.hardware', 'comp.windows.x', 'misc.forsale', 'rec.autos', 'rec.motorcycles', 'rec.sport.baseball', 'rec.sport.hockey', 'sci.crypt', 'sci.electronics', 'sci.med', 'sci.space', 'soc.religion.christian', 'talk.politics.guns', 'talk.politics.mideast', 'talk.politics.misc', 'talk.religion.misc']\n"
     ]
    }
   ],
   "source": [
    "# Target 클래스가 어떻게 구성돼 있는지 확인\n",
    "import pandas as pd\n",
    "\n",
    "print('target 클래스의 값과 분포도 \\n', pd.Series(news_data.target).value_counts().sort_index())\n",
    "print('target 클래스의 이름들 \\n', news_data.target_names)"
   ]
  },
  {
   "cell_type": "code",
   "execution_count": 14,
   "id": "29fac126-083e-4ad5-ba1d-181fb5a0c4eb",
   "metadata": {},
   "outputs": [
    {
     "name": "stdout",
     "output_type": "stream",
     "text": [
      "From: egreen@east.sun.com (Ed Green - Pixel Cruncher)\n",
      "Subject: Re: Observation re: helmets\n",
      "Organization: Sun Microsystems, RTP, NC\n",
      "Lines: 21\n",
      "Distribution: world\n",
      "Reply-To: egreen@east.sun.com\n",
      "NNTP-Posting-Host: laser.east.sun.com\n",
      "\n",
      "In article 211353@mavenry.altcit.eskimo.com, maven@mavenry.altcit.eskimo.com (Norman Hamer) writes:\n",
      "> \n",
      "> The question for the day is re: passenger helmets, if you don't know for \n",
      ">certain who's gonna ride with you (like say you meet them at a .... church \n",
      ">meeting, yeah, that's the ticket)... What are some guidelines? Should I just \n",
      ">pick up another shoei in my size to have a backup helmet (XL), or should I \n",
      ">maybe get an inexpensive one of a smaller size to accomodate my likely \n",
      ">passenger? \n",
      "\n",
      "If your primary concern is protecting the passenger in the event of a\n",
      "crash, have him or her fitted for a helmet that is their size.  If your\n",
      "primary concern is complying with stupid helmet laws, carry a real big\n",
      "spare (you can put a big or small head in a big helmet, but not in a\n",
      "small one).\n",
      "\n",
      "---\n",
      "Ed Green, former Ninjaite |I was drinking last night with a biker,\n",
      "  Ed.Green@East.Sun.COM   |and I showed him a picture of you.  I said,\n",
      "DoD #0111  (919)460-8302  |\"Go on, get to know her, you'll like her!\"\n",
      " (The Grateful Dead) -->  |It seemed like the least I could do...\n",
      "\n",
      "\n"
     ]
    }
   ],
   "source": [
    "# 개별 데이터 텍스트가 어떻게 구성돼 있는지 데이터 한 개만 추출해 확인\n",
    "print(news_data.data[0])"
   ]
  },
  {
   "cell_type": "code",
   "execution_count": 15,
   "id": "392d6a95-38ee-49a1-a927-3a0fa3ab7857",
   "metadata": {},
   "outputs": [],
   "source": [
    "# 내용을 제외한 정보는 제거\n",
    "# remove 파라미터를 이용해 뉴스그룹 기사의 헤더(header)와 푸터(footer) 등 제거 가능\n",
    "# fetch_20newsgroups()의 subset 파라미터로 학습/테스트 데이터 분리가 가능"
   ]
  },
  {
   "cell_type": "code",
   "execution_count": 16,
   "id": "b7c4092d-3a39-44cc-ab2e-bbce9e829c90",
   "metadata": {},
   "outputs": [
    {
     "name": "stdout",
     "output_type": "stream",
     "text": [
      "학습 데이터 크기 11314, 테스트 데이터 크기 7532\n"
     ]
    }
   ],
   "source": [
    "from sklearn.datasets import fetch_20newsgroups\n",
    "\n",
    "# subset='train'으로 학습용 데이터만 추출, remove=('headers', 'footers', 'quotes')로 내용만 추출\n",
    "train_news = fetch_20newsgroups(subset='train', remove=('headers', 'footers', 'quotes'), random_state=156)\n",
    "\n",
    "X_train = train_news.data\n",
    "y_train = train_news.target\n",
    "\n",
    "# subset='test'으로 테스트 데이터만 추출, remove=('headers', 'footers', 'quotes')로 내용만 추출\n",
    "test_news = fetch_20newsgroups(subset='test', remove=('headers', 'footers', 'quotes'), random_state=156)\n",
    "\n",
    "X_test = test_news.data\n",
    "y_test = test_news.target\n",
    "print('학습 데이터 크기 {0}, 테스트 데이터 크기 {1}'.format(len(train_news.data), len(test_news.data)))"
   ]
  },
  {
   "cell_type": "code",
   "execution_count": 17,
   "id": "9d6f72a7-ca47-4faa-91ad-328d9db0352c",
   "metadata": {},
   "outputs": [],
   "source": [
    "# 피처 벡터화 변환과 머신러닝 모델 학습/예측/평가"
   ]
  },
  {
   "cell_type": "code",
   "execution_count": 18,
   "id": "dc3abf1c-3dd7-4384-b6b3-e89577866b78",
   "metadata": {},
   "outputs": [],
   "source": [
    "# CountVectorizer를 이용해 학습 데이터의 텍스트를 피처 벡터화 수행\n",
    "# 유의할 점 : 텍스트 데이터에서 CountVectorizer를 적용 시 반드시 학습 데이터를 이용해 \n",
    "# fit()이 수행된 CountVectorizer 객체를 이용해 테스트 데이터를 변환.\n",
    "# ㄴ 그래야 학습 시 설정된 CountVectorizer의 피처 개수와 테스트 데이터를 CountVectorizer로 변환할 피처 개수가 같아짐!\n",
    "# cnt_vect.transform()을 이용해 테스트 데이터 피처 벡터화 수행\n",
    "# 유의할 점 : 테스트 데이터의 피처 벡터화 시 fit_transform() 사용하면 안됨. \n",
    "# ㄴ 테스트 데이터 기반으로 다시 CountVectorizer가 fit()을 수행하고 transform()하여 학습 시 사용된 피처 개수와 예측 시 사용할 피처 개수가 달라짐"
   ]
  },
  {
   "cell_type": "code",
   "execution_count": 19,
   "id": "fe58c130-2b3f-46db-a426-093620eda939",
   "metadata": {},
   "outputs": [
    {
     "name": "stdout",
     "output_type": "stream",
     "text": [
      "학습 데이터 텍스트의 CountVectorizer Shape : (11314, 101631)\n"
     ]
    }
   ],
   "source": [
    "from sklearn.feature_extraction.text import CountVectorizer\n",
    "\n",
    "# Count Vectorization으로 피처 벡터화 변환 수행\n",
    "cnt_vect = CountVectorizer()\n",
    "cnt_vect.fit(X_train)\n",
    "X_train_cnt_vect = cnt_vect.transform(X_train)\n",
    "\n",
    "# 학습 데이터로 fit()된 CountVectorizer를 이용해 테스트 데이터를 피처 벡터화 변환 수행\n",
    "X_test_cnt_vect = cnt_vect.transform(X_test)\n",
    "\n",
    "print('학습 데이터 텍스트의 CountVectorizer Shape :', X_train_cnt_vect.shape)"
   ]
  },
  {
   "cell_type": "code",
   "execution_count": 20,
   "id": "fba96e8f-edda-4bcf-9db4-835e774280e4",
   "metadata": {},
   "outputs": [],
   "source": [
    "# 피처 벡터화된 데이터에 로지스틱 회귀를 적용해 뉴스그룹에 대한 분류 예측"
   ]
  },
  {
   "cell_type": "code",
   "execution_count": 21,
   "id": "e15cc811-d7a8-4cce-85f0-a839bd9cfbb2",
   "metadata": {},
   "outputs": [
    {
     "name": "stdout",
     "output_type": "stream",
     "text": [
      "CountVectorized Logistic Regression의 예측 정확도는 0.617\n"
     ]
    }
   ],
   "source": [
    "from sklearn.linear_model import LogisticRegression\n",
    "from sklearn.metrics import accuracy_score\n",
    "import warnings\n",
    "warnings.filterwarnings('ignore')\n",
    "\n",
    "# LogisticRegression을 이용하여 학습/예측/평가 수행\n",
    "lr_clf = LogisticRegression(solver='liblinear')\n",
    "lr_clf.fit(X_train_cnt_vect, y_train)\n",
    "pred = lr_clf.predict(X_test_cnt_vect)\n",
    "print('CountVectorized Logistic Regression의 예측 정확도는 {0:.3f}'.format(accuracy_score(y_test, pred)))"
   ]
  },
  {
   "cell_type": "code",
   "execution_count": 22,
   "id": "f797e11b-2481-485a-81e0-c03d74d1fcf4",
   "metadata": {},
   "outputs": [],
   "source": [
    "# TF-IDF 기반으로 벡터화를 변경해 예측 모델 수행"
   ]
  },
  {
   "cell_type": "code",
   "execution_count": 23,
   "id": "b9b95ab7-42f1-4859-9b3c-7becb21334f8",
   "metadata": {},
   "outputs": [
    {
     "name": "stdout",
     "output_type": "stream",
     "text": [
      "TF-IDF Logistic Regression의 예측 정확도는 0.678\n"
     ]
    }
   ],
   "source": [
    "from sklearn.feature_extraction.text import TfidfVectorizer\n",
    "\n",
    "# TF-IDF 벡터화를 적용해 학습 데이터 세트와 테스트 데이터 세트 변환\n",
    "tfidf_vect = TfidfVectorizer()\n",
    "tfidf_vect.fit(X_train)\n",
    "X_train_tfidf_vect = tfidf_vect.transform(X_train)\n",
    "X_test_tfidf_vect = tfidf_vect.transform(X_test)\n",
    "\n",
    "# LogisticRegression을 이용해 학습/예측/평가 수행\n",
    "lr_clf = LogisticRegression(solver='liblinear')\n",
    "lr_clf.fit(X_train_tfidf_vect, y_train)\n",
    "pred = lr_clf.predict(X_test_tfidf_vect)\n",
    "print('TF-IDF Logistic Regression의 예측 정확도는 {0:.3f}'.format(accuracy_score(y_test, pred)))"
   ]
  },
  {
   "cell_type": "code",
   "execution_count": 24,
   "id": "e521aba2-45fc-4613-b49c-326f03c397b0",
   "metadata": {},
   "outputs": [],
   "source": [
    "# TF-IDF가 일반적으로 카운터 벡터화보다 더 좋은 예측 결과를 도출\n",
    "# 텍스트 분석에서 머신러닝 모델의 성능 향상 방법 : 최적읜 ML 알고리즘 선택, 최상의 피처 전처리 수행\n",
    "# 텍스트 정규화, 피처 벡터화를 어떻게 효과적으로 적용했는지가 텍스트 기반의 머신러닝 성능에 큰 영향을 미칠 수 있음"
   ]
  },
  {
   "cell_type": "code",
   "execution_count": 25,
   "id": "38f50051-13dd-48b2-8b6d-207c9ea7b401",
   "metadata": {},
   "outputs": [],
   "source": [
    "# TfidfVectorizer 클래스의 스톱 워드를 'english'로 변경하고, ngram_range를 (1, 2)로, max_df=300으로 변경 후 다시 예측 성능 측정"
   ]
  },
  {
   "cell_type": "code",
   "execution_count": 26,
   "id": "c0d63bf9-2d1e-4cb6-88d5-044f13677109",
   "metadata": {},
   "outputs": [
    {
     "name": "stdout",
     "output_type": "stream",
     "text": [
      "TF-IDF Vectorized Logistic Regression의 예측 정확도는 0.690\n"
     ]
    }
   ],
   "source": [
    "# stop words 필터링을 추가하고 ngram을 기본 (1, 1)에서 (1, 2)로 변경해 피처 벡터화 적용\n",
    "tfidf_vect = TfidfVectorizer(stop_words='english', ngram_range=(1, 2), max_df=300)\n",
    "tfidf_vect.fit(X_train)\n",
    "X_train_tfidf_vect = tfidf_vect.transform(X_train)\n",
    "X_test_tfidf_vect = tfidf_vect.transform(X_test)\n",
    "\n",
    "lr_clf = LogisticRegression(solver='liblinear')\n",
    "lr_clf.fit(X_train_tfidf_vect, y_train)\n",
    "pred = lr_clf.predict(X_test_tfidf_vect)\n",
    "print('TF-IDF Vectorized Logistic Regression의 예측 정확도는 {0:.3f}'.format(accuracy_score(y_test, pred)))"
   ]
  },
  {
   "cell_type": "code",
   "execution_count": 27,
   "id": "279251bf-cff2-4764-9df1-2976b9105592",
   "metadata": {},
   "outputs": [],
   "source": [
    "# GridSearchCV를 이용해 로지스틱 회귀의 하이퍼 파라미터 최적화 수행\n",
    "# 최적의 C 값을 찾은 뒤 이 C 값으로 학습된 모델에서 테스트 데이터로 예측해 성능 평가"
   ]
  },
  {
   "cell_type": "code",
   "execution_count": 28,
   "id": "1ff5bae8-5baa-4921-8960-c300f7e737e6",
   "metadata": {},
   "outputs": [
    {
     "name": "stdout",
     "output_type": "stream",
     "text": [
      "Fitting 3 folds for each of 5 candidates, totalling 15 fits\n",
      "Logistic Regression best C parameter : {'C': 10}\n",
      "TF-IDF Vectorized Logistic Regression의 예측 정확도는 0.704\n"
     ]
    }
   ],
   "source": [
    "from sklearn.model_selection import GridSearchCV\n",
    "\n",
    "# 최적의 C 값 도출 튜닝 수행. CV는 3 폴드 세트로 설정\n",
    "params = {'C':[0.01, 0.1, 1, 5, 10]}\n",
    "grid_cv_lr = GridSearchCV(lr_clf, param_grid=params, cv=3, scoring='accuracy', verbose=1)\n",
    "grid_cv_lr.fit(X_train_tfidf_vect, y_train)\n",
    "print('Logistic Regression best C parameter :', grid_cv_lr.best_params_)\n",
    "\n",
    "# 최적 C 값으로 학습된 grid_cv로 예측 및 정확도 평가\n",
    "pred = grid_cv_lr.predict(X_test_tfidf_vect)\n",
    "print('TF-IDF Vectorized Logistic Regression의 예측 정확도는 {0:.3f}'.format(accuracy_score(y_test, pred)))"
   ]
  },
  {
   "cell_type": "code",
   "execution_count": 29,
   "id": "494c8c2c-efbf-4628-bb65-9a101bc70791",
   "metadata": {},
   "outputs": [],
   "source": [
    "# 로지스틱 회귀의 C가 10일 때 GridSearchCV의 교차 검증 테스트 세트에서 가장 좋은 예측 성능을 나타냄\n",
    "# 이를 테스트 데이터 세트에 적용해 약 0.704로 이전보다 성능 수치가 약간 향상"
   ]
  },
  {
   "cell_type": "code",
   "execution_count": 30,
   "id": "6b51c2e6-a6f3-4e23-9170-c69b0618e863",
   "metadata": {},
   "outputs": [],
   "source": [
    "# 사이킷런 파이프라인(Pipeline) 사용 및 GridSearchCV와의 결합"
   ]
  },
  {
   "cell_type": "code",
   "execution_count": 31,
   "id": "7f8b73a2-31d2-4971-8c10-4abdee8cae85",
   "metadata": {},
   "outputs": [],
   "source": [
    "# 사이킷런 Pipeline 클래스를 이용해 피처 벡터화, ML 알고리즘 학습/예측을 위한 코드 작성을 한 번에 할 수 있음\n",
    "# Pipeline : 데이터의 가공, 변환 등의 전처리와 알고리즘 적용을 한꺼번에 스트림 기반으로 처리하는 것\n",
    "# 데이터 전처리, 머신러닝 학습 과정을 통일된 API 기반에서 처리 가능 => 더 직관적인 ML 모델 코드 생성 가능\n",
    "# 대용량 데이터의 피처 벡터화 결과를 별도 저장 없이 스트림 기반으로 바로 머신러닝 알고리즘의 데이터로 입력 가능 => 수행 시간 절약\n",
    "# 사이킷런 파이프라인은 일반적으로 텍스트 기반의 피처 벡터화 뿐만 아니라 모든 데이터 전처리 작업과 Estimator 결합 가능"
   ]
  },
  {
   "cell_type": "code",
   "execution_count": 32,
   "id": "8502e017-4213-49ae-9492-242de5aed7bb",
   "metadata": {},
   "outputs": [],
   "source": [
    "# 텍스트 분류 예제 코드를 Pipeline을 이용해 선언"
   ]
  },
  {
   "cell_type": "code",
   "execution_count": 33,
   "id": "4952182f-2074-4ac4-ab60-dabcc148edc3",
   "metadata": {},
   "outputs": [],
   "source": [
    "# 파이프라인 객체 선언 방식\n",
    "# TfidfVectorizer 객체를 tfidf_vect라는 객체 변수명으로, LogisticRegression 객체를 lr_clf라는 객체 변수명으로 생성한 뒤 \n",
    "# 이 두 개의 객체를 파이프라인으로 연결하는 Pipeline 객체 pipeline을 생성\n",
    "# pipeline = Pipeline([('tfidf_vect', TfidVectorizer(stop_words='english')), ('lr_clf', LogisticRegression(random_state=156))])"
   ]
  },
  {
   "cell_type": "code",
   "execution_count": 37,
   "id": "39b6c529-851d-4f8f-89eb-3c3d21434491",
   "metadata": {},
   "outputs": [
    {
     "name": "stdout",
     "output_type": "stream",
     "text": [
      "Pipeline을 통한 Logistic Regression의 예측 정확도는 0.704\n"
     ]
    }
   ],
   "source": [
    "from sklearn.pipeline import Pipeline\n",
    "\n",
    "# TfidfVectorizer 객체를 tfidf_vect로, LogisticRegression 객체를 lr_clf로 생성하는 Pipeline 생성\n",
    "pipeline = Pipeline([\n",
    "    ('tfidf_vect', TfidfVectorizer(stop_words='english', ngram_range=(1, 2), max_df=300)),\n",
    "    ('lr_clf', LogisticRegression(solver='liblinear', C=10))\n",
    "])\n",
    "\n",
    "# 별도의 TfidfVectorizer 객체의 fit(), transform()과 LogisticRegression의 fit(), predict()가 필요 없음\n",
    "# pipeline의 fit()과 predict()만으로 한꺼번에 피처 벡터화의 ML 학습/예측이 가능\n",
    "pipeline.fit(X_train, y_train)\n",
    "pred = pipeline.predict(X_test)\n",
    "print('Pipeline을 통한 Logistic Regression의 예측 정확도는 {0:.3f}'.format(accuracy_score(y_test, pred)))"
   ]
  },
  {
   "cell_type": "code",
   "execution_count": 41,
   "id": "be3cd7a6-3b24-4590-81ed-b9263f3dd64c",
   "metadata": {},
   "outputs": [],
   "source": [
    "# GridSearchCV 클래스의 생성 파라미터로 Pipeline을 이용한 하이퍼 파라미터 튜닝도 가능\n",
    "# ㄴ> 피처 벡터화를 위한 파라미터, ML 알고리즘의 하이퍼 파라미터를 모두 한 번에 GridSearchCV로 최적화 가능"
   ]
  },
  {
   "cell_type": "code",
   "execution_count": 43,
   "id": "cbaf0b01-2097-4555-8632-4ffd36685f9b",
   "metadata": {},
   "outputs": [],
   "source": [
    "# GridSearchCV에 Pipeline을 입력하면서 TfidfVectorizer의 파라미터와 LogisticRegression의 하이퍼 파라미터를 함께 최적화\n",
    "# GridSearchCV에 Pipeline을 입력하면 param_grid 입력 값 설정이 딕셔너리 형태.\n",
    "# ㄴ Value를 리스트 형태로 입력, Key를 'tfidf_vect__ngram_range'와 같이 하이퍼 파라미터명이 객체 변수명과 결합돼 제공\n",
    "# ㄴ> Pipeline 구성 파라미터와 Estimator 하이퍼 파라미터를 구별하고자 개별 객체 명, 파라미터명/하이퍼 파라미터명을 결합해 Key 값으로 할당하는 것\n",
    "# Pipeline + GridSearchCV 적용 시 유의할 점 : 모두의 파라미터를 최적화하려면 너무 많은 튜닝 시간이 소모"
   ]
  },
  {
   "cell_type": "code",
   "execution_count": null,
   "id": "6ebf0eed-dcbb-4c0f-a8d3-00ad80c045a8",
   "metadata": {},
   "outputs": [],
   "source": [
    "from sklearn.pipeline import Pipeline\n",
    "\n",
    "pipeline = Pipeline([\n",
    "    ('tfidf_vect', TfidfVectorizer(stop_words='english')),\n",
    "    ('lr_clf', LogisticRegression())\n",
    "])\n",
    "\n",
    "# Pipeline에 기술된 각각의 객체 변수에 언더바(_) 2개를 연달아 붙여 GridSearchCV에 사용됨\n",
    "# 파라미터/하이퍼 파라미터 이름과 값을 설정\n",
    "params = { 'tfidf_vect__ngram_range' : [(1, 1), (1, 2), (1, 3)],\n",
    "           'tfidf_vect__max_df' : [100, 300, 700],\n",
    "           'lr_clf__C' : [1, 5, 10]\n",
    "         }\n",
    "\n",
    "# GridSerachCV의 생성자에 Estimator가 아닌 Pipeline 객체 입력\n",
    "grid_cv_pipe = GridSearchCV(pipeline, param_grid=params, cv=3, scoring='accuracy', verbose=1)\n",
    "grid_cv_pipe.fit(X_train, y_train)\n",
    "print(grid_cv_pipe.best_params_, grid_cv_pipe.best_score_)\n",
    "\n",
    "pred = grid_cv_pipe.predict(X_test)\n",
    "print('Pipeline을 통한 Logistic Regression의 예측 정확도는 {0:.3f}'.format(accuracy_score(y_test, pred)))"
   ]
  },
  {
   "cell_type": "code",
   "execution_count": null,
   "id": "cf5d11e2-5d77-432d-8d12-d74db48a2a5c",
   "metadata": {},
   "outputs": [],
   "source": [
    "# max_df가 700, ngram_range가 (1, 2)로 피처 벡터화된 데이터 세트에 LogisticRegression의 C에 10을 적용할 때 가장 좋은 검증 세트 성능 수치"
   ]
  },
  {
   "cell_type": "code",
   "execution_count": null,
   "id": "8be3c710-275a-490b-82e2-5c76f17fb17a",
   "metadata": {},
   "outputs": [],
   "source": []
  }
 ],
 "metadata": {
  "kernelspec": {
   "display_name": "Python 3 (ipykernel)",
   "language": "python",
   "name": "python3"
  },
  "language_info": {
   "codemirror_mode": {
    "name": "ipython",
    "version": 3
   },
   "file_extension": ".py",
   "mimetype": "text/x-python",
   "name": "python",
   "nbconvert_exporter": "python",
   "pygments_lexer": "ipython3",
   "version": "3.12.3"
  }
 },
 "nbformat": 4,
 "nbformat_minor": 5
}
